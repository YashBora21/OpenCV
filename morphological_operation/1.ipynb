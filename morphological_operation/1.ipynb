{
 "cells": [
  {
   "cell_type": "code",
   "execution_count": 11,
   "id": "93a3a671",
   "metadata": {},
   "outputs": [],
   "source": [
    "import cv2 \n",
    "import numpy as np\n"
   ]
  },
  {
   "cell_type": "code",
   "execution_count": 12,
   "id": "c974ed5d",
   "metadata": {},
   "outputs": [],
   "source": [
    "img=cv2.imread(r\"C:\\Users\\Lenovo\\OneDrive\\Desktop\\dataScience\\Open CV\\images (1).jpeg\")\n",
    "img=cv2.resize(img,(700,500))\n"
   ]
  },
  {
   "cell_type": "code",
   "execution_count": 38,
   "id": "2ad1aa9f",
   "metadata": {},
   "outputs": [],
   "source": [
    "cv2.imshow(\"galaxy\",img)\n",
    "cv2.imshow(\"galaxy_erode\",er)# shrik white channel accn to kernel matrixt dim size\n",
    "cv2.imshow(\"galaxy_dilate\",di)#inc thickness the white spots\n",
    "cv2.imshow(\"galaxy_opening\",op)\n",
    "cv2.imshow(\"galaxy_closeing\",cl)\n",
    "cv2.imshow(\"galaxy_gradient\",grad)\n",
    "cv2.imshow(\"galaxy_tophat\",th)\n",
    "cv2.imshow(\"galaxy_blackhat\",bh)\n",
    "\n",
    "\n",
    "cv2.waitKey(0)\n",
    "cv2.destroyAllWindows()"
   ]
  },
  {
   "cell_type": "code",
   "execution_count": 36,
   "id": "d16d0484",
   "metadata": {},
   "outputs": [
    {
     "data": {
      "text/plain": [
       "array([[1, 1, 1, 1, 1, 1, 1, 1, 1, 1, 1, 1, 1, 1, 1],\n",
       "       [1, 1, 1, 1, 1, 1, 1, 1, 1, 1, 1, 1, 1, 1, 1],\n",
       "       [1, 1, 1, 1, 1, 1, 1, 1, 1, 1, 1, 1, 1, 1, 1],\n",
       "       [1, 1, 1, 1, 1, 1, 1, 1, 1, 1, 1, 1, 1, 1, 1],\n",
       "       [1, 1, 1, 1, 1, 1, 1, 1, 1, 1, 1, 1, 1, 1, 1],\n",
       "       [1, 1, 1, 1, 1, 1, 1, 1, 1, 1, 1, 1, 1, 1, 1],\n",
       "       [1, 1, 1, 1, 1, 1, 1, 1, 1, 1, 1, 1, 1, 1, 1],\n",
       "       [1, 1, 1, 1, 1, 1, 1, 1, 1, 1, 1, 1, 1, 1, 1],\n",
       "       [1, 1, 1, 1, 1, 1, 1, 1, 1, 1, 1, 1, 1, 1, 1],\n",
       "       [1, 1, 1, 1, 1, 1, 1, 1, 1, 1, 1, 1, 1, 1, 1],\n",
       "       [1, 1, 1, 1, 1, 1, 1, 1, 1, 1, 1, 1, 1, 1, 1],\n",
       "       [1, 1, 1, 1, 1, 1, 1, 1, 1, 1, 1, 1, 1, 1, 1],\n",
       "       [1, 1, 1, 1, 1, 1, 1, 1, 1, 1, 1, 1, 1, 1, 1],\n",
       "       [1, 1, 1, 1, 1, 1, 1, 1, 1, 1, 1, 1, 1, 1, 1],\n",
       "       [1, 1, 1, 1, 1, 1, 1, 1, 1, 1, 1, 1, 1, 1, 1]], dtype=int8)"
      ]
     },
     "execution_count": 36,
     "metadata": {},
     "output_type": "execute_result"
    }
   ],
   "source": [
    "#making kernel\n",
    "m=np.ones((15,15),np.int8)\n",
    "m"
   ]
  },
  {
   "cell_type": "code",
   "execution_count": 19,
   "id": "c5845a26",
   "metadata": {},
   "outputs": [],
   "source": [
    "# errosion\n",
    "er=cv2.erode(img,m,1)\n"
   ]
  },
  {
   "cell_type": "code",
   "execution_count": null,
   "id": "b6d3f832",
   "metadata": {},
   "outputs": [],
   "source": [
    "#dilate\n",
    "di=cv2.dilate(img,m,1)"
   ]
  },
  {
   "cell_type": "code",
   "execution_count": 24,
   "id": "9a18162e",
   "metadata": {},
   "outputs": [],
   "source": [
    "##opening\n",
    "op=cv2.morphologyEx(img,cv2.MORPH_OPEN,m,1)"
   ]
  },
  {
   "cell_type": "code",
   "execution_count": 26,
   "id": "a62d8211",
   "metadata": {},
   "outputs": [],
   "source": [
    "#colseing\n",
    "cl=cv2.morphologyEx(img,cv2.MORPH_CLOSE,m,1)"
   ]
  },
  {
   "cell_type": "code",
   "execution_count": 29,
   "id": "55fb2fb5",
   "metadata": {},
   "outputs": [],
   "source": [
    "#gradient\n",
    "grad=cv2.morphologyEx(img,cv2.MORPH_GRADIENT,m,1)"
   ]
  },
  {
   "cell_type": "code",
   "execution_count": null,
   "id": "2f169a66",
   "metadata": {},
   "outputs": [],
   "source": [
    "#top hat/white hat\n",
    "th=cv2.morphologyEx(img,cv2.MORPH_TOPHAT,m,1)"
   ]
  },
  {
   "cell_type": "code",
   "execution_count": 37,
   "id": "952398c5",
   "metadata": {},
   "outputs": [],
   "source": [
    "#black hat'\n",
    "bh=cv2.morphologyEx(img,cv2.MORPH_BLACKHAT,m,1)"
   ]
  },
  {
   "cell_type": "code",
   "execution_count": null,
   "id": "b6352df1",
   "metadata": {},
   "outputs": [],
   "source": []
  }
 ],
 "metadata": {
  "kernelspec": {
   "display_name": "Python 3",
   "language": "python",
   "name": "python3"
  },
  "language_info": {
   "codemirror_mode": {
    "name": "ipython",
    "version": 3
   },
   "file_extension": ".py",
   "mimetype": "text/x-python",
   "name": "python",
   "nbconvert_exporter": "python",
   "pygments_lexer": "ipython3",
   "version": "3.13.3"
  }
 },
 "nbformat": 4,
 "nbformat_minor": 5
}
