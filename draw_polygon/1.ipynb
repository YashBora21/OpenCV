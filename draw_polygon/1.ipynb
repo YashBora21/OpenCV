{
 "cells": [
  {
   "cell_type": "code",
   "execution_count": 6,
   "id": "cc653af7",
   "metadata": {},
   "outputs": [],
   "source": [
    "import cv2\n",
    "import numpy as np"
   ]
  },
  {
   "cell_type": "code",
   "execution_count": 7,
   "id": "95a8ddf0",
   "metadata": {},
   "outputs": [],
   "source": [
    "img=cv2.imread(r\"C:\\Users\\Lenovo\\OneDrive\\Desktop\\dataScience\\Open CV\\image.png\")\n"
   ]
  },
  {
   "cell_type": "code",
   "execution_count": 10,
   "id": "0d260a22",
   "metadata": {},
   "outputs": [],
   "source": [
    "cv2.imshow(\"image\",img)\n",
    "cv2.waitKey(0)\n",
    "cv2.destroyAllWindows()"
   ]
  },
  {
   "cell_type": "code",
   "execution_count": 9,
   "id": "ada35ee2",
   "metadata": {},
   "outputs": [],
   "source": [
    "new_image=cv2.polylines(img, pts=[np.array([[75,50],[100,30],[150,50],[150,100],[75,100]])], isClosed=True, color=(0,0,255), thickness=4)"
   ]
  },
  {
   "cell_type": "code",
   "execution_count": null,
   "id": "dfbb0967",
   "metadata": {},
   "outputs": [],
   "source": []
  }
 ],
 "metadata": {
  "kernelspec": {
   "display_name": "Python 3",
   "language": "python",
   "name": "python3"
  },
  "language_info": {
   "codemirror_mode": {
    "name": "ipython",
    "version": 3
   },
   "file_extension": ".py",
   "mimetype": "text/x-python",
   "name": "python",
   "nbconvert_exporter": "python",
   "pygments_lexer": "ipython3",
   "version": "3.13.3"
  }
 },
 "nbformat": 4,
 "nbformat_minor": 5
}
